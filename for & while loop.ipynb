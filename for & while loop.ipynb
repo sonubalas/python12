{
 "cells": [
  {
   "cell_type": "code",
   "execution_count": 1,
   "id": "121b111d-1e00-4920-b633-cfba6e63b298",
   "metadata": {},
   "outputs": [],
   "source": [
    "## nested if else  -->>  conditoin with in condition \n",
    "\n",
    "# x=10\n",
    "# x>5\n",
    "# x<20\n",
    "# x>20\n",
    "\n",
    "\n"
   ]
  },
  {
   "cell_type": "code",
   "execution_count": 125,
   "id": "4da1fb1a-94ea-4175-b952-4bd2ba197122",
   "metadata": {},
   "outputs": [
    {
     "name": "stdin",
     "output_type": "stream",
     "text": [
      "enter the vale 21\n",
      "enter the city jaipur\n"
     ]
    },
    {
     "name": "stdout",
     "output_type": "stream",
     "text": [
      "greater than 18\n",
      "belong to jaipur\n"
     ]
    }
   ],
   "source": [
    "age=int(input(\"enter the vale\"))\n",
    "city=str(input(\"enter the city\"))\n",
    "\n",
    "if(age>=18):\n",
    "    print(\"greater than 18\")\n",
    "elif(age<18):\n",
    "    print(\"less than 18\")\n",
    "if(city==\"jaipur\"):\n",
    "    print(\"belong to jaipur\")\n",
    "else:\n",
    "    print(\"not belong to jaipur\")\n"
   ]
  },
  {
   "cell_type": "markdown",
   "id": "23c2b0c7-8bbe-4395-9fce-5582714565e8",
   "metadata": {},
   "source": []
  },
  {
   "cell_type": "markdown",
   "id": "d04d8929-a74d-4020-b4dc-121c09dd565a",
   "metadata": {},
   "source": []
  },
  {
   "cell_type": "code",
   "execution_count": 1,
   "id": "7208c0c1-076e-45e9-80b3-605d13031571",
   "metadata": {},
   "outputs": [
    {
     "name": "stdout",
     "output_type": "stream",
     "text": [
      "44\n"
     ]
    }
   ],
   "source": [
    "#loop \n",
    "totel=0\n",
    "for i in range(2,10):\n",
    "    totel+=i\n",
    "print(totel)\n",
    "\n",
    "    "
   ]
  },
  {
   "cell_type": "code",
   "execution_count": 11,
   "id": "f71d62b3-d014-468b-97c6-a4dc52a6d5f0",
   "metadata": {},
   "outputs": [
    {
     "name": "stdin",
     "output_type": "stream",
     "text": [
      "enter the number 23\n"
     ]
    },
    {
     "name": "stdout",
     "output_type": "stream",
     "text": [
      "this number is not devided by 2 and 6\n"
     ]
    }
   ],
   "source": [
    "num=int(input(\"enter the number\"))\n",
    "if(num%2==0 and num%6==0):\n",
    "    print(\"this number is devided by 2 and 6\")\n",
    "else:\n",
    "    print(\"this number is not devided by 2 and 6\")\n"
   ]
  },
  {
   "cell_type": "code",
   "execution_count": 15,
   "id": "71e6fbd1-3a55-409d-84c2-64bd43b91a63",
   "metadata": {},
   "outputs": [
    {
     "name": "stdout",
     "output_type": "stream",
     "text": [
      "60\n",
      "3540\n",
      "205320\n",
      "11703240\n",
      "655381440\n",
      "36045979200\n",
      "1946482876800\n",
      "103163592470400\n",
      "5364506808460800\n",
      "273589847231500800\n",
      "13679492361575040000\n",
      "670295125717176960000\n",
      "32174166034424494080000\n",
      "1512185803617951221760000\n",
      "69560546966425756200960000\n",
      "3130224613489159029043200000\n",
      "137729882993522997277900800000\n",
      "5922384968721488882949734400000\n",
      "248740168686302533083888844800000\n",
      "10198346916138403856439442636800000\n"
     ]
    }
   ],
   "source": [
    "totel=1\n",
    "for i in range(60,40,-1):\n",
    "    totel*=i\n",
    "    print(totel)"
   ]
  },
  {
   "cell_type": "code",
   "execution_count": 15,
   "id": "a5a98ac8-7c68-4eeb-bddf-0fce0060a36d",
   "metadata": {},
   "outputs": [
    {
     "name": "stdout",
     "output_type": "stream",
     "text": [
      "70\n",
      "4830\n",
      "328440\n",
      "22005480\n",
      "1452361680\n",
      "94403509200\n",
      "6041824588800\n",
      "380634949094400\n",
      "23599366843852800\n",
      "1439561377475020800\n",
      "86373682648501248000\n",
      "5096047276261573632000\n",
      "295570742023171270656000\n",
      "16847532295320762427392000\n",
      "943461808537962695933952000\n",
      "51890399469587948276367360000\n",
      "2802081571357749206923837440000\n",
      "148510323281960707966963384320000\n",
      "7722536810661956814282095984640000\n",
      "393849377343759797528386895216640000\n"
     ]
    }
   ],
   "source": [
    "totel=1\n",
    "for i in range(70, 50,-1):\n",
    "    totel*=i\n",
    "    print(totel)"
   ]
  },
  {
   "cell_type": "code",
   "execution_count": 19,
   "id": "b870616c-f230-4787-a58f-cbf52eae48f1",
   "metadata": {},
   "outputs": [
    {
     "name": "stdout",
     "output_type": "stream",
     "text": [
      "2  is even number\n",
      "3  is odd number\n",
      "4  is even number\n",
      "5  is odd number\n",
      "6  is even number\n",
      "7  is odd number\n",
      "8  is even number\n",
      "9  is odd number\n",
      "10  is even number\n",
      "11  is odd number\n",
      "12  is even number\n",
      "13  is odd number\n",
      "14  is even number\n",
      "15  is odd number\n",
      "16  is even number\n",
      "17  is odd number\n",
      "18  is even number\n",
      "19  is odd number\n",
      "20  is even number\n",
      "21  is odd number\n",
      "22  is even number\n",
      "23  is odd number\n",
      "24  is even number\n"
     ]
    }
   ],
   "source": [
    "for i in range(2,25):\n",
    "    if(i%2==0):\n",
    "       print(i,\" is even number\")\n",
    "    else:\n",
    "        print(i,\" is odd number\")"
   ]
  },
  {
   "cell_type": "code",
   "execution_count": 62,
   "id": "c87a399f-f08b-434f-9327-948f859a6a87",
   "metadata": {},
   "outputs": [
    {
     "name": "stdout",
     "output_type": "stream",
     "text": [
      "sum of even number is 110\n",
      "sum of odd number is 99\n"
     ]
    }
   ],
   "source": [
    "\n",
    "even_sum=0\n",
    "odd_sum=0\n",
    "for num in range(2,21):\n",
    "    if(num%2==0):\n",
    "        even_sum+=num\n",
    "    else:\n",
    "        odd_sum+=num\n",
    "print(\"sum of even number is\" ,even_sum)\n",
    "print(\"sum of odd number is\" ,odd_sum)\n"
   ]
  },
  {
   "cell_type": "code",
   "execution_count": 29,
   "id": "3bd2de6f-2644-4d6e-87ef-c0c710df2942",
   "metadata": {},
   "outputs": [
    {
     "name": "stdout",
     "output_type": "stream",
     "text": [
      "sum of even is 56\n",
      "sum of odd is 63\n"
     ]
    }
   ],
   "source": [
    "sum_even=0\n",
    "sum_odd=0\n",
    "for i in range(2,16):\n",
    "    if(i%2==0):\n",
    "        sum_even+=i\n",
    "    else:\n",
    "        sum_odd+=i\n",
    "print(f\"sum of even is {sum_even}\")\n",
    "print(f\"sum of odd is {sum_odd}\")"
   ]
  },
  {
   "cell_type": "code",
   "execution_count": 77,
   "id": "6153e82c-3e3a-4290-827e-d4fd943fa5be",
   "metadata": {},
   "outputs": [
    {
     "name": "stdout",
     "output_type": "stream",
     "text": [
      "sum of  odd number is 120\n",
      "sum of even numner is 132\n"
     ]
    }
   ],
   "source": [
    "even=0\n",
    "odd=0\n",
    "for i in range(2,23):\n",
    "    if(i%2==0):\n",
    "        even+=i\n",
    "\n",
    "    else:\n",
    "        odd+=i\n",
    "print(\"sum of  odd number is\", odd)\n",
    "print(\"sum of even numner is\",even)\n"
   ]
  },
  {
   "cell_type": "code",
   "execution_count": null,
   "id": "4c87c3c9-b104-487f-8832-26fe6a3a36f2",
   "metadata": {},
   "outputs": [],
   "source": []
  },
  {
   "cell_type": "code",
   "execution_count": 91,
   "id": "62862c56-6522-4cbb-b1d4-34a65a2f3ffb",
   "metadata": {},
   "outputs": [
    {
     "name": "stdout",
     "output_type": "stream",
     "text": [
      "sum of 10 to 18 is,  126\n"
     ]
    }
   ],
   "source": [
    "x=10\n",
    "tot=0\n",
    "while(x<=18):\n",
    "    tot+=x\n",
    "    x+=1\n",
    "print(\"sum of 10 to 18 is, \", tot)\n"
   ]
  },
  {
   "cell_type": "code",
   "execution_count": 37,
   "id": "612c7e26-ed05-4532-935e-19c0e93a522c",
   "metadata": {},
   "outputs": [
    {
     "name": "stdout",
     "output_type": "stream",
     "text": [
      "108\n"
     ]
    }
   ],
   "source": [
    "totel=0\n",
    "x=10\n",
    "while(x<18):\n",
    "    totel+=x\n",
    "    x=x+1\n",
    "print(totel)"
   ]
  },
  {
   "cell_type": "code",
   "execution_count": 104,
   "id": "a7991422-8ca7-4bd3-9927-be0e2a90a660",
   "metadata": {},
   "outputs": [
    {
     "name": "stdout",
     "output_type": "stream",
     "text": [
      "6\n",
      "12\n",
      "18\n",
      "24\n",
      "30\n",
      "36\n",
      "42\n",
      "48\n",
      "54\n",
      "60\n",
      "66\n",
      "72\n",
      "78\n",
      "84\n",
      "90\n"
     ]
    }
   ],
   "source": [
    "count=0\n",
    "num=1\n",
    "while(count<15):\n",
    "    if(num%6==0):\n",
    "        print(num)\n",
    "        count=count+1\n",
    "    num+=1"
   ]
  },
  {
   "cell_type": "code",
   "execution_count": null,
   "id": "645a1653-baa0-49de-adf0-78407f8657e9",
   "metadata": {},
   "outputs": [],
   "source": []
  },
  {
   "cell_type": "code",
   "execution_count": 34,
   "id": "7df17913-64f9-43fc-999e-59b0deac7d19",
   "metadata": {},
   "outputs": [
    {
     "name": "stdout",
     "output_type": "stream",
     "text": [
      "hello\n"
     ]
    }
   ],
   "source": [
    "print(\"hello\")"
   ]
  },
  {
   "cell_type": "code",
   "execution_count": null,
   "id": "a2d10260-012b-43ee-9e79-e779cc327b51",
   "metadata": {},
   "outputs": [],
   "source": [
    "## assingment questions -->>\n"
   ]
  },
  {
   "cell_type": "code",
   "execution_count": 9,
   "id": "aaaabdcb-6634-42b9-8284-ed03107f6dab",
   "metadata": {},
   "outputs": [
    {
     "name": "stdout",
     "output_type": "stream",
     "text": [
      "1\n",
      "2\n",
      "3\n",
      "4\n",
      "5\n",
      "6\n",
      "7\n",
      "8\n",
      "9\n"
     ]
    }
   ],
   "source": [
    "# 1. Write a program to print all natural numbers from 1 to n. – using while\n",
    "# loop\n",
    "\n",
    "n=1\n",
    "while(n<10):\n",
    "    print(n)\n",
    "    n=n+1"
   ]
  },
  {
   "cell_type": "code",
   "execution_count": 10,
   "id": "e4171555-41a0-4146-8df3-08eac4a62a62",
   "metadata": {},
   "outputs": [
    {
     "name": "stdout",
     "output_type": "stream",
     "text": [
      "10\n",
      "9\n",
      "8\n",
      "7\n",
      "6\n",
      "5\n",
      "4\n",
      "3\n",
      "2\n",
      "1\n"
     ]
    }
   ],
   "source": [
    "# 2. Write a program to print all natural numbers in reverse (from n to 1). –\n",
    "# using while loop\n",
    "\n",
    "n=10\n",
    "while(n>0):\n",
    "    print(n)\n",
    "    n=n-1"
   ]
  },
  {
   "cell_type": "code",
   "execution_count": 24,
   "id": "50e69596-fd50-423e-b55d-a972e4c73550",
   "metadata": {},
   "outputs": [
    {
     "name": "stdout",
     "output_type": "stream",
     "text": [
      "yuuu\n"
     ]
    }
   ],
   "source": [
    "print(\"yuuu\")"
   ]
  },
  {
   "cell_type": "code",
   "execution_count": null,
   "id": "d8fd1573-13bf-45d7-a0e2-df419c58b5ba",
   "metadata": {},
   "outputs": [],
   "source": []
  },
  {
   "cell_type": "code",
   "execution_count": 36,
   "id": "7ed069e4-701b-4b60-a4c4-aefff764f9dc",
   "metadata": {},
   "outputs": [
    {
     "name": "stdout",
     "output_type": "stream",
     "text": [
      "2\n",
      "4\n",
      "6\n",
      "8\n",
      "10\n",
      "12\n",
      "14\n",
      "16\n",
      "18\n",
      "20\n",
      "22\n",
      "24\n",
      "26\n",
      "28\n"
     ]
    }
   ],
   "source": [
    "# 4. Write a program to print all even numbers between 1 to 100. – using\n",
    "# while loop\n",
    "\n",
    "\n",
    "x=1\n",
    "while(x<30):\n",
    "    if(x%2==0):\n",
    "        print(x)\n",
    "    x+=1\n",
    "\n",
    "        "
   ]
  },
  {
   "cell_type": "code",
   "execution_count": null,
   "id": "09723616-1b89-4d57-bc78-f2a8491b3237",
   "metadata": {},
   "outputs": [],
   "source": []
  },
  {
   "cell_type": "code",
   "execution_count": 39,
   "id": "f862f54e-40f7-450e-9898-0ba51f3d8cdc",
   "metadata": {},
   "outputs": [
    {
     "name": "stdout",
     "output_type": "stream",
     "text": [
      "a b c d e f g h i j k l m n o p q r s t u v w x y z "
     ]
    }
   ],
   "source": [
    "# 3. Write a program to print all alphabets from a to z. – using while loop\n",
    "\n",
    "alphabet=ord('a')\n",
    "while(alphabet <= ord('z')):\n",
    "    print(chr(alphabet),end=\" \")\n",
    "    alphabet+=1\n",
    "    "
   ]
  },
  {
   "cell_type": "code",
   "execution_count": null,
   "id": "9c50e43c-f968-49ee-8b49-1aa9b65ca6ae",
   "metadata": {},
   "outputs": [],
   "source": []
  },
  {
   "cell_type": "code",
   "execution_count": 60,
   "id": "2fbcaf93-50d4-41c2-a437-d187d159a0d0",
   "metadata": {},
   "outputs": [
    {
     "data": {
      "text/plain": [
       "122"
      ]
     },
     "execution_count": 60,
     "metadata": {},
     "output_type": "execute_result"
    }
   ],
   "source": [
    "ord('z')"
   ]
  },
  {
   "cell_type": "code",
   "execution_count": null,
   "id": "e5c9aad0-3b19-4423-be82-8ed652633d1e",
   "metadata": {},
   "outputs": [],
   "source": [
    "\n",
    "    "
   ]
  },
  {
   "cell_type": "code",
   "execution_count": 1,
   "id": "d6a8574e-81cb-4b7f-8919-c4e5d15cc216",
   "metadata": {},
   "outputs": [
    {
     "name": "stdout",
     "output_type": "stream",
     "text": [
      "64\n"
     ]
    }
   ],
   "source": [
    "# 5. Write a program to find the sum of all odd numbers between 1 to n.\n",
    "\n",
    "sum=0\n",
    "num=1\n",
    "while(num<=15):\n",
    "    if(num%2!=0):\n",
    "        sum=sum+num\n",
    "    num+=1\n",
    "print(sum)\n",
    "        \n",
    "    "
   ]
  },
  {
   "cell_type": "code",
   "execution_count": 80,
   "id": "cb4d6eea-9241-468c-8dcf-22c5acefb2b6",
   "metadata": {},
   "outputs": [
    {
     "name": "stdout",
     "output_type": "stream",
     "text": [
      "number of digit is {0}\n"
     ]
    }
   ],
   "source": [
    "# 6. Write a program to count the number of digits in a number.\n",
    "\n",
    "count=0\n",
    "if(count == 0):\n",
    "    num = 1\n",
    "else:\n",
    "    while(count != 0):\n",
    "        num=num // 10\n",
    "        count+=1\n",
    "# print(\"number of didgit is\",count)\n",
    "print(f\"number of digit is\",{count})  "
   ]
  },
  {
   "cell_type": "code",
   "execution_count": 122,
   "id": "8acb823e-7809-4947-b292-0734a4ca84cc",
   "metadata": {},
   "outputs": [
    {
     "name": "stdin",
     "output_type": "stream",
     "text": [
      "enter the number 1234\n"
     ]
    },
    {
     "name": "stdout",
     "output_type": "stream",
     "text": [
      "sun of digit is 10\n"
     ]
    }
   ],
   "source": [
    "# 7. Write a program to calculate the sum of digits of a number.\n",
    "\n",
    "num=int(input(\"enter the number\"))\n",
    "sum_digit=0\n",
    "while(num!=0):\n",
    "    digit=num%10\n",
    "    sum_digit+=digit\n",
    "    num=num//10\n",
    "print(\"sun of digit is\",sum_digit)\n",
    "\n"
   ]
  },
  {
   "cell_type": "code",
   "execution_count": null,
   "id": "e0b64e52-58c2-463c-83d2-b87f90751726",
   "metadata": {},
   "outputs": [],
   "source": []
  },
  {
   "cell_type": "code",
   "execution_count": 132,
   "id": "a47922a4-e467-4ac1-bd71-cba975de41d2",
   "metadata": {},
   "outputs": [],
   "source": [
    "# 8. Write a program to find the first and last digit of a number.\n",
    " "
   ]
  },
  {
   "cell_type": "code",
   "execution_count": 151,
   "id": "261deead-832d-480d-86cc-a7105785f582",
   "metadata": {},
   "outputs": [
    {
     "name": "stdin",
     "output_type": "stream",
     "text": [
      "enter the number 54533\n"
     ]
    },
    {
     "name": "stdout",
     "output_type": "stream",
     "text": [
      "sum of first and last digit is  8\n"
     ]
    }
   ],
   "source": [
    "# 9.  Write a program to find the sum of first and last digit of a number.\n",
    "\n",
    "number=(input(\"enter the number\"))\n",
    "print(\"sum of first and last digit is \",int(number[0])+int(number[-1]))"
   ]
  },
  {
   "cell_type": "code",
   "execution_count": 161,
   "id": "7955d492-f7c9-4676-996b-0cec2ea3e947",
   "metadata": {},
   "outputs": [
    {
     "name": "stdin",
     "output_type": "stream",
     "text": [
      "enter a number 165242\n"
     ]
    },
    {
     "name": "stdout",
     "output_type": "stream",
     "text": [
      "reversed number is  242561\n"
     ]
    }
   ],
   "source": [
    "# 10.Write a program to enter a number and print its reverse.\n",
    "\n",
    "number=(input(\"enter a number\"))\n",
    "\n",
    "print(\"reversed number is \",number[::-1])\n"
   ]
  },
  {
   "cell_type": "code",
   "execution_count": 1,
   "id": "c79c1edd-6553-410b-849a-91e33536bc5d",
   "metadata": {},
   "outputs": [
    {
     "name": "stdin",
     "output_type": "stream",
     "text": [
      "enter the base 3\n",
      "enter the expo 4\n"
     ]
    },
    {
     "name": "stdout",
     "output_type": "stream",
     "text": [
      "3 ^ 4 = 81\n"
     ]
    }
   ],
   "source": [
    "# 11.Write a program to find the power of a number using for loop.\n",
    "\n",
    "base=int(input(\"enter the base\"))\n",
    "expo=int(input(\"enter the expo\"))\n",
    "result=1\n",
    "for x in range(expo):\n",
    "    result*=base\n",
    "print(f\"{base} ^ {expo} = {result}\")\n"
   ]
  },
  {
   "cell_type": "code",
   "execution_count": 34,
   "id": "eb1f03ee-7c75-4a0b-ac26-8813c351f4c8",
   "metadata": {},
   "outputs": [
    {
     "name": "stdin",
     "output_type": "stream",
     "text": [
      "enter a number 123\n"
     ]
    },
    {
     "name": "stdout",
     "output_type": "stream",
     "text": [
      " not armstrong number\n"
     ]
    }
   ],
   "source": [
    "## armstrong number  -->.\n",
    "# 18.Write a program to check whether a number is an Armstrong number or not -->>\n",
    "\n",
    "\n",
    "num=int(input(\"enter a number\"))\n",
    "sum=0\n",
    "temp=num\n",
    "while(num>0):\n",
    "    rem=num%10\n",
    "    sum=sum+rem**3\n",
    "    num=num//10\n",
    "if(sum== temp):\n",
    "    print(\"armstrong number\")\n",
    "else:\n",
    "    print(\" not armstrong number\")"
   ]
  },
  {
   "cell_type": "code",
   "execution_count": 60,
   "id": "2d4835eb-a69e-4102-9c25-8c6aada72823",
   "metadata": {},
   "outputs": [],
   "source": [
    "# 7**3\n",
    "# 3**3\n",
    "# 0**0\n"
   ]
  },
  {
   "cell_type": "code",
   "execution_count": 66,
   "id": "e9eb873b-aeca-46cb-903e-79a9f73d8c91",
   "metadata": {},
   "outputs": [
    {
     "data": {
      "text/plain": [
       "1"
      ]
     },
     "execution_count": 66,
     "metadata": {},
     "output_type": "execute_result"
    }
   ],
   "source": [
    "1%10"
   ]
  },
  {
   "cell_type": "code",
   "execution_count": 30,
   "id": "43489af2-f271-4d50-a1d6-de6f6fde0389",
   "metadata": {},
   "outputs": [
    {
     "name": "stdin",
     "output_type": "stream",
     "text": [
      "enter a number 121\n"
     ]
    },
    {
     "name": "stdout",
     "output_type": "stream",
     "text": [
      "polendrome number\n"
     ]
    }
   ],
   "source": [
    "## polendrome numner -->.\n",
    "\n",
    "num=int(input(\"enter a number\"))\n",
    "sum=0\n",
    "temp=num\n",
    "while(num>0):\n",
    "    rem=num%10\n",
    "    sum=sum*10+rem\n",
    "    num=num//10\n",
    "if(sum==temp):\n",
    "    print(\"polendrome number\")\n",
    "else:\n",
    "    print(\"not polendrome number\")"
   ]
  },
  {
   "cell_type": "code",
   "execution_count": 24,
   "id": "9c61e6c5-752e-4fac-8d5d-a363b09b7572",
   "metadata": {},
   "outputs": [
    {
     "name": "stdout",
     "output_type": "stream",
     "text": [
      "polindrome\n"
     ]
    }
   ],
   "source": [
    "# string polendrome -->>\n",
    "\n",
    "str=\"saras\"\n",
    "start=0\n",
    "end=len(str)-1\n",
    "while(start < end):\n",
    "    if str[start]==str[end]:\n",
    "        start=start+1\n",
    "        end=end-1\n",
    "    else:\n",
    "        print(\"not polindrome\")\n",
    "        break\n",
    "else:\n",
    "    print(\"polindrome\")\n"
   ]
  },
  {
   "cell_type": "code",
   "execution_count": null,
   "id": "353f7265-38e8-4ce1-ab79-398c98232b53",
   "metadata": {},
   "outputs": [],
   "source": []
  },
  {
   "cell_type": "code",
   "execution_count": null,
   "id": "a94b8124-19d9-4610-8fb7-7f7d8c42f4be",
   "metadata": {},
   "outputs": [],
   "source": []
  },
  {
   "cell_type": "code",
   "execution_count": 34,
   "id": "2d219b2a-dc5d-4943-af7c-741e2ec5a5d0",
   "metadata": {},
   "outputs": [
    {
     "name": "stdout",
     "output_type": "stream",
     "text": [
      "2, 4, 6, 8, 10, 12, 14, 16, 18, 20, "
     ]
    }
   ],
   "source": [
    "# print first 10 even number  ->>\n",
    "n=1\n",
    "while(n<22):\n",
    "    if(n%2==0):\n",
    "        print(n,end=\", \")\n",
    "    n+=1"
   ]
  },
  {
   "cell_type": "code",
   "execution_count": 36,
   "id": "d8c4da1f-08d9-4bed-a25c-56a8983babbb",
   "metadata": {},
   "outputs": [
    {
     "name": "stdout",
     "output_type": "stream",
     "text": [
      "1 ,3 ,5 ,7 ,9 ,11 ,13 ,15 ,17 ,19 ,"
     ]
    }
   ],
   "source": [
    "# print first 10 odd number ->>\n",
    "\n",
    "num=1\n",
    "while(num<20):\n",
    "    if(num%2!=0):\n",
    "        print(num,end=\" ,\")\n",
    "    num+=1"
   ]
  },
  {
   "cell_type": "code",
   "execution_count": 38,
   "id": "f07365fc-3398-40e7-ab04-8db6229289f6",
   "metadata": {},
   "outputs": [
    {
     "name": "stdout",
     "output_type": "stream",
     "text": [
      "1 ,2 ,3 ,4 ,5 ,6 ,7 ,8 ,9 ,10 ,"
     ]
    }
   ],
   "source": [
    "# print 10 natural number -->\n",
    "\n",
    "\n",
    "num=1\n",
    "while(num<11):\n",
    "    print(num,end=\" ,\")\n",
    "    num+=1"
   ]
  },
  {
   "cell_type": "code",
   "execution_count": 7,
   "id": "fc5c6b59-5313-4b0c-bbe3-7282551acd30",
   "metadata": {},
   "outputs": [
    {
     "name": "stdout",
     "output_type": "stream",
     "text": [
      "0 ,1 ,2 ,3 ,4 ,5 ,6 ,7 ,8 ,9 ,"
     ]
    }
   ],
   "source": [
    "# print 10 whole number ->>\n",
    "num=0\n",
    "while(num<10):\n",
    "    print(num,end=\" ,\")\n",
    "    num+=1"
   ]
  },
  {
   "cell_type": "code",
   "execution_count": 36,
   "id": "e9cacd57-a207-45ab-a105-e4682c916d30",
   "metadata": {},
   "outputs": [
    {
     "name": "stdout",
     "output_type": "stream",
     "text": [
      "10 ,20 ,30 ,40 ,50 ,60 ,70 ,80 ,90 ,100 ,"
     ]
    }
   ],
   "source": [
    "# print 10,20,30,... using for loop\n",
    "\n",
    "num=10\n",
    "while(num<=100):\n",
    "    print(num,end=\" ,\")\n",
    "    num=num+10\n",
    "    "
   ]
  },
  {
   "cell_type": "code",
   "execution_count": 72,
   "id": "74f2ede7-6fc2-4130-a813-cd27a8bd85dc",
   "metadata": {},
   "outputs": [
    {
     "name": "stdout",
     "output_type": "stream",
     "text": [
      "10, 9, 8, 7, 6, 5, 4, 3, 2, 1, "
     ]
    }
   ],
   "source": [
    "# print 10 natural number in reverse\n",
    "\n",
    "num=10\n",
    "while(num>0):\n",
    "    print(num,end=\", \")\n",
    "    num-=1"
   ]
  },
  {
   "cell_type": "code",
   "execution_count": 78,
   "id": "11102920-a302-4fb8-9f44-2e2f5f4b5aa1",
   "metadata": {},
   "outputs": [
    {
     "name": "stdout",
     "output_type": "stream",
     "text": [
      "110\n"
     ]
    }
   ],
   "source": [
    "# sum of 10 even number\n",
    "\n",
    "sum=0\n",
    "num=1\n",
    "while(num<=20):\n",
    "    if(num%2==0):\n",
    "        sum+=num\n",
    "    num+=1\n",
    "print(sum)\n",
    "    "
   ]
  },
  {
   "cell_type": "code",
   "execution_count": 114,
   "id": "f4976f59-4132-442e-ad70-7d2da755a630",
   "metadata": {},
   "outputs": [
    {
     "name": "stdin",
     "output_type": "stream",
     "text": [
      "enter a number 5\n"
     ]
    },
    {
     "name": "stdout",
     "output_type": "stream",
     "text": [
      "5 * 2 = 10\n",
      "5 * 3 = 15\n",
      "5 * 4 = 20\n",
      "5 * 5 = 25\n",
      "5 * 6 = 30\n",
      "5 * 7 = 35\n",
      "5 * 8 = 40\n",
      "5 * 9 = 45\n",
      "5 * 10 = 50\n"
     ]
    }
   ],
   "source": [
    "n=1\n",
    "num=int(input(\"enter a number\"))\n",
    "while(n<10):\n",
    "    n+=1\n",
    "    print(num,\"*\",n,\"=\",num*n)"
   ]
  },
  {
   "cell_type": "code",
   "execution_count": 133,
   "id": "6ca0d9df-de18-4efb-a3e6-67f577f82fc6",
   "metadata": {},
   "outputs": [
    {
     "name": "stdout",
     "output_type": "stream",
     "text": [
      "104 ,130 ,143 ,169 ,182 ,208 ,221 ,247 ,260 ,286 ,299 ,325 ,338 ,364 ,377 ,403 ,416 ,442 ,455 ,481 ,494 ,"
     ]
    }
   ],
   "source": [
    "# print number btw 100 to 500 which is devisible by 13 but not divisible by 3 ? -->>\n",
    "\n",
    "x=100\n",
    "while(x<=500):\n",
    "    if(x%13==0 and x%3!=0):\n",
    "        print(x,end=\" ,\")\n",
    "    x+=1\n",
    "    "
   ]
  },
  {
   "cell_type": "code",
   "execution_count": 163,
   "id": "ffd1e0c2-c9bd-43e4-864e-7a24be584475",
   "metadata": {},
   "outputs": [
    {
     "name": "stdout",
     "output_type": "stream",
     "text": [
      "1 ,4 ,9 ,16 ,25 ,36 ,49 ,64 ,81 ,100 ,"
     ]
    }
   ],
   "source": [
    "# print series 1  4 ,9 ,16 ... so on ->\n",
    "\n",
    "num=1\n",
    "while(num<=10):\n",
    "    print(num**2,end=\" ,\")\n",
    "    num+=1"
   ]
  },
  {
   "cell_type": "code",
   "execution_count": 161,
   "id": "3a0e5e0d-047d-4669-b19d-e5e15d133b22",
   "metadata": {},
   "outputs": [
    {
     "data": {
      "text/plain": [
       "4"
      ]
     },
     "execution_count": 161,
     "metadata": {},
     "output_type": "execute_result"
    }
   ],
   "source": [
    "2**2"
   ]
  },
  {
   "cell_type": "code",
   "execution_count": null,
   "id": "631d0bf7-9053-4b5d-9adc-e92ca975167f",
   "metadata": {},
   "outputs": [],
   "source": []
  },
  {
   "cell_type": "code",
   "execution_count": null,
   "id": "25ded837-ae57-4a83-89e3-f7dea1335b2f",
   "metadata": {},
   "outputs": [],
   "source": []
  }
 ],
 "metadata": {
  "kernelspec": {
   "display_name": "Python 3 (ipykernel)",
   "language": "python",
   "name": "python3"
  },
  "language_info": {
   "codemirror_mode": {
    "name": "ipython",
    "version": 3
   },
   "file_extension": ".py",
   "mimetype": "text/x-python",
   "name": "python",
   "nbconvert_exporter": "python",
   "pygments_lexer": "ipython3",
   "version": "3.12.4"
  }
 },
 "nbformat": 4,
 "nbformat_minor": 5
}
