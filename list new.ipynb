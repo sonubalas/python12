{
 "cells": [
  {
   "cell_type": "code",
   "execution_count": 27,
   "id": "5b9f85a6-8582-48ec-a95c-56ca87b11231",
   "metadata": {},
   "outputs": [
    {
     "name": "stdout",
     "output_type": "stream",
     "text": [
      "apr\n",
      "a\n"
     ]
    }
   ],
   "source": [
    "## string indexing and slicing ==>>\n",
    "\n",
    "msg=\"jaipur\"\n",
    "print(msg[1:6:2])\n",
    "print(msg[1])"
   ]
  },
  {
   "cell_type": "code",
   "execution_count": 29,
   "id": "809366bf-73a9-4845-8524-af952fb1dc0a",
   "metadata": {},
   "outputs": [
    {
     "name": "stdout",
     "output_type": "stream",
     "text": [
      "7\n",
      "6\n",
      "5\n",
      "4\n",
      "3\n",
      "2\n"
     ]
    }
   ],
   "source": [
    "for j in range(7,1,-1):\n",
    "    print(j)"
   ]
  },
  {
   "cell_type": "code",
   "execution_count": 53,
   "id": "93f143d7-9e19-4aa8-b7f4-05f8e5c82fc1",
   "metadata": {},
   "outputs": [
    {
     "name": "stdout",
     "output_type": "stream",
     "text": [
      "R\n",
      "jt\n",
      "nah\n",
      "ata\n",
      "th\n"
     ]
    }
   ],
   "source": [
    "state=\"Rajasthan\"\n",
    "print(state[0])\n",
    "print(state[2:7:3])\n",
    "print(state[-1:-4:-1])\n",
    "print(state[3:8:2])\n",
    "print(state[-4:-2:])"
   ]
  },
  {
   "cell_type": "code",
   "execution_count": null,
   "id": "b49297c1-b26d-47fe-9522-adfadc328f3f",
   "metadata": {},
   "outputs": [],
   "source": []
  },
  {
   "cell_type": "code",
   "execution_count": 63,
   "id": "1fcf8138-9ea1-4d59-b006-b72f167b36af",
   "metadata": {},
   "outputs": [
    {
     "name": "stdout",
     "output_type": "stream",
     "text": [
      "[10, 20, 30, 'asd']\n",
      "<class 'list'>\n"
     ]
    }
   ],
   "source": [
    "## list datatype ==..>>\n",
    "\n",
    "#-->> collectin of values \n",
    "# => LIST IS mutable datatype\n",
    "# ==> it is the orderd collection of element\n",
    "\n",
    "\n",
    "mylist=[10,20,30,'asd']\n",
    "print(mylist)\n",
    "print(type(mylist))"
   ]
  },
  {
   "cell_type": "code",
   "execution_count": 67,
   "id": "52ce6206-75fc-42c2-8ba0-f4c963373d66",
   "metadata": {},
   "outputs": [
    {
     "data": {
      "text/plain": [
       "[30, 'asd']"
      ]
     },
     "execution_count": 67,
     "metadata": {},
     "output_type": "execute_result"
    }
   ],
   "source": [
    "mylist[2:5]"
   ]
  },
  {
   "cell_type": "code",
   "execution_count": 71,
   "id": "813fbe72-5a9f-42cb-80ed-3b0877939364",
   "metadata": {},
   "outputs": [
    {
     "data": {
      "text/plain": [
       "'asd'"
      ]
     },
     "execution_count": 71,
     "metadata": {},
     "output_type": "execute_result"
    }
   ],
   "source": [
    "mylist[3]"
   ]
  },
  {
   "cell_type": "code",
   "execution_count": 75,
   "id": "2f7c1244-2a62-472c-94b0-48a16633adc3",
   "metadata": {},
   "outputs": [
    {
     "name": "stdout",
     "output_type": "stream",
     "text": [
      "[50, 20, 30, 'asd']\n"
     ]
    }
   ],
   "source": [
    "mylist[0]=50\n",
    "print(mylist)"
   ]
  },
  {
   "cell_type": "code",
   "execution_count": 79,
   "id": "058c57a1-1eb7-4c49-87a0-2a797c178e60",
   "metadata": {},
   "outputs": [
    {
     "name": "stdout",
     "output_type": "stream",
     "text": [
      "['a', 'b', 30, 'asd']\n"
     ]
    }
   ],
   "source": [
    "mylist[0:2]=[\"a\",\"b\"]\n",
    "print(mylist)"
   ]
  },
  {
   "cell_type": "code",
   "execution_count": 9,
   "id": "a2ba4e05-2b87-4130-b939-d8d8367c755c",
   "metadata": {},
   "outputs": [],
   "source": [
    "# append insert only 1 element vo bhi last me\n",
    "# mylist.append(100)\n",
    "# mylist"
   ]
  },
  {
   "cell_type": "code",
   "execution_count": 87,
   "id": "baae5273-8627-4afe-b37f-3f96c60e4b3d",
   "metadata": {},
   "outputs": [
    {
     "data": {
      "text/plain": [
       "['a', 'b', 30, 'asd']"
      ]
     },
     "execution_count": 87,
     "metadata": {},
     "output_type": "execute_result"
    }
   ],
   "source": [
    "# pop = delect last element \n",
    "mylist.pop()\n",
    "mylist"
   ]
  },
  {
   "cell_type": "code",
   "execution_count": 91,
   "id": "86a35f81-5c4d-405c-9a7e-5af79dfa0a41",
   "metadata": {},
   "outputs": [
    {
     "name": "stdout",
     "output_type": "stream",
     "text": [
      "['a', 'b', 30, 'asd', 99, 95, 90, 99, 95, 90]\n"
     ]
    }
   ],
   "source": [
    "## itrable == >> ek aisa data jiske uper ham loop chla skte h.\n",
    "# extend => insert more than one element in list\n",
    "\n",
    "mylist.extend([99,95,90])\n",
    "print(mylist)\n"
   ]
  },
  {
   "cell_type": "code",
   "execution_count": 99,
   "id": "708533ca-117b-4115-9d59-f57aaad368fb",
   "metadata": {},
   "outputs": [
    {
     "name": "stdout",
     "output_type": "stream",
     "text": [
      "['a', 'b', 30, 'asd', 99, 95]\n"
     ]
    }
   ],
   "source": [
    "mylist.pop()\n",
    "print(mylist)"
   ]
  },
  {
   "cell_type": "code",
   "execution_count": 103,
   "id": "bf8e6c66-5001-4cb4-a454-9f142b9f0602",
   "metadata": {},
   "outputs": [
    {
     "name": "stdout",
     "output_type": "stream",
     "text": [
      "['a', 'b', 30, 'asd', 99, 95]\n"
     ]
    }
   ],
   "source": [
    "print(mylist)"
   ]
  },
  {
   "cell_type": "code",
   "execution_count": 117,
   "id": "d49a232e-91fd-4e57-87aa-bcb94ddbb632",
   "metadata": {},
   "outputs": [
    {
     "name": "stdout",
     "output_type": "stream",
     "text": [
      "10\n",
      "20\n",
      "30\n",
      "abc\n",
      "xyz\n",
      "100\n"
     ]
    }
   ],
   "source": [
    "## loop in list ==>>\n",
    "# direct\n",
    "for i in [10,20,30,'abc','xyz',100]:\n",
    "    print(i)"
   ]
  },
  {
   "cell_type": "code",
   "execution_count": 129,
   "id": "25edf4e2-fd51-403f-a3b5-234508999e34",
   "metadata": {},
   "outputs": [
    {
     "name": "stdout",
     "output_type": "stream",
     "text": [
      "0\n",
      "1\n",
      "2\n",
      "3\n",
      "4\n"
     ]
    }
   ],
   "source": [
    "mylist=[10,15,20,25,'hello']\n",
    "mylist[4]\n",
    "for index in range(0,5):\n",
    "    print(index)"
   ]
  },
  {
   "cell_type": "code",
   "execution_count": 149,
   "id": "8903d8f6-f6dd-40c2-a5c7-a17f177582ce",
   "metadata": {},
   "outputs": [
    {
     "name": "stdout",
     "output_type": "stream",
     "text": [
      "2\n",
      "6\n",
      "10\n",
      "20\n",
      "30\n"
     ]
    }
   ],
   "source": [
    "# find even in list =>\n",
    "\n",
    "list1=[2,6,10,20,15,17,30]\n",
    "for i in list1:\n",
    "    if(i%2==0):\n",
    "        print(i)\n"
   ]
  },
  {
   "cell_type": "code",
   "execution_count": 187,
   "id": "d260d2ab-2670-4d8b-98b9-97e93b0411ea",
   "metadata": {},
   "outputs": [
    {
     "name": "stdout",
     "output_type": "stream",
     "text": [
      "100\n",
      "400\n",
      "225\n",
      "289\n"
     ]
    }
   ],
   "source": [
    "# ques if value is int than print their squire=>>\n",
    "\n",
    "list2=[10,20,10.5,15,17,16.5,\"hello\"]\n",
    "for i in list2:\n",
    "    if (type(i))  is  int:\n",
    "        print(i**2)\n",
    "        \n",
    "    "
   ]
  },
  {
   "cell_type": "code",
   "execution_count": 239,
   "id": "520f1e65-ccc5-4f18-a50b-882624c643bb",
   "metadata": {},
   "outputs": [
    {
     "name": "stdout",
     "output_type": "stream",
     "text": [
      "100\n",
      "400\n",
      "225\n",
      "289\n",
      "[]\n"
     ]
    }
   ],
   "source": [
    "mylist=[]\n",
    "list2=[10,20,10.5,15,17,16.5,\"hello\"]\n",
    "for i in list2:\n",
    "    if (type(i))  is  int:\n",
    "        print(i**2)\n",
    "\n",
    "print(mylist)\n"
   ]
  },
  {
   "cell_type": "code",
   "execution_count": 191,
   "id": "597abebd-c5cd-42a9-aa22-b86b798f2625",
   "metadata": {},
   "outputs": [
    {
     "data": {
      "text/plain": [
       "289"
      ]
     },
     "execution_count": 191,
     "metadata": {},
     "output_type": "execute_result"
    }
   ],
   "source": [
    "17**2"
   ]
  },
  {
   "cell_type": "code",
   "execution_count": 235,
   "id": "87979a4e-a158-47a3-ade4-ddec85d846f3",
   "metadata": {},
   "outputs": [
    {
     "name": "stdout",
     "output_type": "stream",
     "text": [
      "True\n"
     ]
    }
   ],
   "source": [
    "x=10\n",
    "list3=[10,10,20,30,40,'hii',10.5]\n",
    "if (x in list3):\n",
    "    print(\"True\")\n",
    "else:\n",
    "    print(\"False\")"
   ]
  },
  {
   "cell_type": "code",
   "execution_count": 317,
   "id": "ae87aaa2-9215-44fd-892d-85ac850f2696",
   "metadata": {},
   "outputs": [
    {
     "name": "stdout",
     "output_type": "stream",
     "text": [
      "[10, 20]\n"
     ]
    }
   ],
   "source": [
    "\n",
    "mylist=[10,10,20,20,20,30,40,60,70]\n",
    "duplicate=[]\n",
    "x=0\n",
    "for i in range(0,len(mylist)):\n",
    "    for j in range(i+1,len(mylist)):\n",
    "        if mylist[i] == mylist[j]:\n",
    "            if (mylist[i] not in duplicate):\n",
    "                duplicate.append(mylist[i])\n",
    "print(duplicate)\n",
    "    #         x=x+1\n",
    "    #         break\n",
    "    #     print(\"this is duplicate value\")\n",
    "    # else:\n",
    "    #     print(\"not a duplicate vlaue\")\n",
    "    \n",
    "        "
   ]
  },
  {
   "cell_type": "code",
   "execution_count": null,
   "id": "c62fc404-1989-4c2a-975e-ea39e522c0b2",
   "metadata": {},
   "outputs": [],
   "source": []
  }
 ],
 "metadata": {
  "kernelspec": {
   "display_name": "Python 3 (ipykernel)",
   "language": "python",
   "name": "python3"
  },
  "language_info": {
   "codemirror_mode": {
    "name": "ipython",
    "version": 3
   },
   "file_extension": ".py",
   "mimetype": "text/x-python",
   "name": "python",
   "nbconvert_exporter": "python",
   "pygments_lexer": "ipython3",
   "version": "3.12.4"
  }
 },
 "nbformat": 4,
 "nbformat_minor": 5
}
