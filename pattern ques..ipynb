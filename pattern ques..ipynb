{
 "cells": [
  {
   "cell_type": "code",
   "execution_count": 19,
   "id": "904053ed-7140-4d66-ab37-9447bedd79a9",
   "metadata": {},
   "outputs": [
    {
     "name": "stdout",
     "output_type": "stream",
     "text": [
      "* * * * \n",
      "*     * \n",
      "*     * \n",
      "* * * * \n"
     ]
    }
   ],
   "source": [
    "# ques .1 -->>\n",
    "\n",
    "for i in range(1,5):\n",
    "    for j in range(1,5):\n",
    "        if(i==1 or i==4 or j==1 or j==4):\n",
    "            print(\"*\",end=\" \")\n",
    "        else:\n",
    "            print(\" \",end=\" \")\n",
    "    print()"
   ]
  },
  {
   "cell_type": "code",
   "execution_count": 3,
   "id": "5dd231f5-87ae-48db-882c-6787778ef5a1",
   "metadata": {},
   "outputs": [
    {
     "name": "stdout",
     "output_type": "stream",
     "text": [
      "A\n",
      "AB\n",
      "ABC\n",
      "ABCD\n",
      "ABCDE\n"
     ]
    }
   ],
   "source": [
    "# ques 2 .--->\n",
    "# x=ord('A')\n",
    "for i in range(1,6):\n",
    "    x=ord('A')\n",
    "    for j in range(1,i+1):\n",
    "        print(chr(x),end=\"\")\n",
    "        x+=1\n",
    "    print()"
   ]
  },
  {
   "cell_type": "code",
   "execution_count": 9,
   "id": "96cc89ae-17fa-4775-892d-749224bc9042",
   "metadata": {},
   "outputs": [
    {
     "name": "stdout",
     "output_type": "stream",
     "text": [
      "A\n",
      "BB\n",
      "CCC\n",
      "DDDD\n",
      "EEEEE\n"
     ]
    }
   ],
   "source": [
    "## quest. 3  -->>\n",
    "\n",
    "for i in range(1,6):\n",
    "    x=ord(\"A\")+i-1\n",
    "    for j in range(1,i+1):\n",
    "        print(chr(x),end=\"\")\n",
    "    print()"
   ]
  },
  {
   "cell_type": "code",
   "execution_count": 134,
   "id": "a4f383f2-b889-429e-8883-afdf46d16751",
   "metadata": {},
   "outputs": [
    {
     "name": "stdout",
     "output_type": "stream",
     "text": [
      "        * \n",
      "      * * \n",
      "    * * * \n",
      "  * * * * \n",
      "* * * * * \n"
     ]
    }
   ],
   "source": [
    " ## ques 4 -->>\n",
    "\n",
    " for i in range(1,6):\n",
    "     for j in range(1,6-i):\n",
    "         print(\" \",end=\" \")\n",
    "     for K in range(1,i+1):\n",
    "         print(\"*\",end=\" \")\n",
    "     print()"
   ]
  },
  {
   "cell_type": "code",
   "execution_count": 161,
   "id": "0994fdf4-6dde-4b5b-b6b5-ac469faf7170",
   "metadata": {
    "scrolled": true
   },
   "outputs": [
    {
     "name": "stdout",
     "output_type": "stream",
     "text": [
      "  A B C D E \n",
      "    A B C D \n",
      "      A B C \n",
      "        A B \n",
      "          A \n"
     ]
    }
   ],
   "source": [
    "# ques 5. -->>\n",
    "\n",
    "for i in range(1,6):\n",
    "    a=ord(\"A\")\n",
    "    for j in range(1,i+1):\n",
    "        print(\" \",end=\" \")\n",
    "    for k in range(1,7-i): \n",
    "        print(chr(a),end=\" \")\n",
    "        a=a+1\n",
    "        \n",
    "    print()\n",
    "\n"
   ]
  },
  {
   "cell_type": "code",
   "execution_count": 200,
   "id": "24f49018-cd29-461b-be19-1ea7de19d614",
   "metadata": {},
   "outputs": [
    {
     "name": "stdout",
     "output_type": "stream",
     "text": [
      "*****\n",
      " *****\n",
      "  *****\n",
      "   *****\n"
     ]
    }
   ],
   "source": [
    "## ques .6   --->>\n",
    "\n",
    "\n",
    "for i in range(1,5):\n",
    "    for j in range(2,i+1):\n",
    "        print(\" \",end=\"\")\n",
    "    for k in range(1,6):\n",
    "        print(\"*\",end=\"\")\n",
    "    print()"
   ]
  },
  {
   "cell_type": "code",
   "execution_count": 19,
   "id": "267aedd9-f618-4788-bc02-e57aa84a7ba7",
   "metadata": {},
   "outputs": [
    {
     "name": "stdout",
     "output_type": "stream",
     "text": [
      "        1 \n",
      "      2 2 \n",
      "    3 3 3 \n",
      "  4 4 4 4 \n"
     ]
    }
   ],
   "source": [
    "#ques .7 --->>>\n",
    "\n",
    "for i in range(1,5):    for j in range(1,6-i):\n",
    "        print(\" \",end=\" \")\n",
    "    for k in range(1,i+1):\n",
    "        print(i,end=\" \")\n",
    "        x+=1\n",
    "    print()\n",
    "\n",
    "\n",
    "       "
   ]
  },
  {
   "cell_type": "code",
   "execution_count": 266,
   "id": "de206ce3-c95a-4d00-8f78-c76639f6f994",
   "metadata": {},
   "outputs": [
    {
     "name": "stdout",
     "output_type": "stream",
     "text": [
      "  1 2 3 4 5 \n",
      "    1 2 3 4 \n",
      "      1 2 3 \n",
      "        1 2 \n",
      "          1 \n"
     ]
    }
   ],
   "source": [
    "#ques.8  --->>\n",
    "\n",
    "for i in range(1,6):\n",
    "    for j in range(1,i+1):\n",
    "        print(\" \",end=\" \" )\n",
    "    for k in range(1,7-i):\n",
    "        print(k,end=\" \")\n",
    "    print()"
   ]
  },
  {
   "cell_type": "code",
   "execution_count": 286,
   "id": "25b32837-6d1e-431b-8690-3bc023753530",
   "metadata": {},
   "outputs": [
    {
     "name": "stdout",
     "output_type": "stream",
     "text": [
      "      * * * * \n",
      "    * * * * \n",
      "  * * * * \n",
      "* * * * \n"
     ]
    }
   ],
   "source": [
    "# ques .9  ===>>.\n",
    "\n",
    "for i in range(1,5):\n",
    "    for j in range(1,5-i):\n",
    "        print(\" \",end=\" \")\n",
    "    for k in range(1,5):\n",
    "        print(\"*\",end=\" \")\n",
    "    print()\n",
    "        "
   ]
  },
  {
   "cell_type": "code",
   "execution_count": 304,
   "id": "0cca70e1-715b-493d-abb3-95f46761d525",
   "metadata": {},
   "outputs": [
    {
     "name": "stdout",
     "output_type": "stream",
     "text": [
      "      1 2 3 4 5 \n",
      "    1 2 3 4 5 \n",
      "  1 2 3 4 5 \n",
      "1 2 3 4 5 \n"
     ]
    }
   ],
   "source": [
    "# ques .10 ==>>\n",
    "\n",
    "for i in range(1,5):\n",
    "    for j in range(1,5-i):\n",
    "        print(\" \",end=\" \")\n",
    "    for k in range(1,6):\n",
    "        print(k,end=\" \")\n",
    "    print()"
   ]
  },
  {
   "cell_type": "code",
   "execution_count": 352,
   "id": "6b14e7e4-fb67-41e3-8e6f-2612dd14742e",
   "metadata": {},
   "outputs": [
    {
     "name": "stdout",
     "output_type": "stream",
     "text": [
      "      * \n",
      "    * * * \n",
      "  * * * * * \n",
      "* * * * * * * \n"
     ]
    }
   ],
   "source": [
    "#ques .11 ==>>\n",
    "\n",
    "for i in range(1,5):\n",
    "    for j in range(1,5-i):\n",
    "        print(\" \",end=\" \")\n",
    "    for k in range(1,i*2):\n",
    "        print(\"*\",end=\" \")\n",
    "    print()"
   ]
  },
  {
   "cell_type": "code",
   "execution_count": 382,
   "id": "0c616053-9ef4-4751-8903-05117967d8cd",
   "metadata": {},
   "outputs": [],
   "source": [
    "# # ques 12  ==>>\n",
    "# for i in range(1,6):\n",
    "#     for j in range(1,6):\n",
    "#         if(i==4 or i==j or j==1):\n",
    "#             print(\"*\",end=\" \")\n",
    "#         else:\n",
    "#             print(\" \",end=\" \")\n",
    "#     print()"
   ]
  },
  {
   "cell_type": "code",
   "execution_count": 398,
   "id": "01be143c-669f-4fa5-9b76-b007183386a7",
   "metadata": {},
   "outputs": [
    {
     "name": "stdout",
     "output_type": "stream",
     "text": [
      " *******\n",
      "  *****\n",
      "   ***\n",
      "    *\n",
      "     \n"
     ]
    }
   ],
   "source": [
    "# ques .14 ==>>\n",
    "\n",
    "for i in range(1,6):\n",
    "    for j in range(1,i+1):\n",
    "        print(\" \",end=\"\")\n",
    "    for k in range(1,10-i*2):\n",
    "        print(\"*\",end=\"\")\n",
    "    print()"
   ]
  },
  {
   "cell_type": "code",
   "execution_count": 410,
   "id": "f524d5fb-6ca2-4562-a09e-cfb0866f39c1",
   "metadata": {},
   "outputs": [
    {
     "name": "stdout",
     "output_type": "stream",
     "text": [
      "*\n",
      "**\n",
      "***\n",
      "****\n",
      "***\n",
      "**\n",
      "*\n",
      "\n"
     ]
    }
   ],
   "source": [
    "# ques .15 ==>>\n",
    "\n",
    "for i in range(1,5):\n",
    "    for j in range(1,i+1):\n",
    "        print(\"*\",end=\"\")\n",
    "    print()\n",
    "for i in range(1,5):\n",
    "    for j in range(1,5-i):\n",
    "        print(\"*\",end=\"\")\n",
    "    print()\n",
    "    \n",
    "    #     print(\"*\",end=\" \")\n",
    "    # print()"
   ]
  },
  {
   "cell_type": "code",
   "execution_count": 432,
   "id": "ce088c47-333d-4fd4-8bee-4e6afe523bea",
   "metadata": {},
   "outputs": [
    {
     "name": "stdout",
     "output_type": "stream",
     "text": [
      "   *\n",
      "  **\n",
      " ***\n",
      "****\n",
      " ***\n",
      "  **\n",
      "   *\n",
      "    \n"
     ]
    }
   ],
   "source": [
    "# ques .16 ==>>\n",
    "\n",
    "for i in range(1,5):\n",
    "    for j in range(1,5-i):\n",
    "        print(\" \",end=\"\")\n",
    "    for k in range(1,i+1):\n",
    "        print(\"*\",end=\"\")\n",
    "    print()\n",
    "for i in range(1,5):\n",
    "    for j in range(1,i+1):\n",
    "        print(\" \",end=\"\")\n",
    "    for k in range(1,5-i):\n",
    "        print(\"*\",end=\"\")\n",
    "    print()\n"
   ]
  },
  {
   "cell_type": "code",
   "execution_count": 485,
   "id": "d718e907-8b70-451f-bee5-42f6fdf61442",
   "metadata": {},
   "outputs": [
    {
     "name": "stdout",
     "output_type": "stream",
     "text": [
      "   *\n",
      "  ***\n",
      " *****\n",
      "*******\n",
      " *****\n",
      "  ***\n",
      "   *\n",
      "    \n"
     ]
    }
   ],
   "source": [
    "# ques 17.===>>\n",
    "\n",
    "\n",
    "for i in range(1,5):\n",
    "    for j in range(1,5-i):\n",
    "        print(\" \",end=\"\")\n",
    "    for k in range(1,i*2):\n",
    "        print(\"*\",end=\"\")\n",
    "    print()\n",
    "for i in range(1,5):\n",
    "    for j in range(1,i+1):\n",
    "        print(\" \",end=\"\")\n",
    "    for k in range(1,8-i*2):\n",
    "        print(\"*\",end=\"\")\n",
    "    print()"
   ]
  },
  {
   "cell_type": "code",
   "execution_count": null,
   "id": "c7d06a87-0af9-4b62-ac47-06a5a5a11a76",
   "metadata": {},
   "outputs": [],
   "source": []
  },
  {
   "cell_type": "code",
   "execution_count": 446,
   "id": "7713bfac-9d28-4109-a0bc-c9b389729405",
   "metadata": {},
   "outputs": [
    {
     "name": "stdout",
     "output_type": "stream",
     "text": [
      "hull\n"
     ]
    }
   ],
   "source": [
    "print(\"hull\")"
   ]
  },
  {
   "cell_type": "code",
   "execution_count": null,
   "id": "e47165cb-a66d-4721-a2b9-178b004b4cf0",
   "metadata": {},
   "outputs": [],
   "source": [
    "for i in range(1,6):\n",
    "    for j in range(1,i+1):\n",
    "        print(i,end=\" \")\n",
    "    print"
   ]
  }
 ],
 "metadata": {
  "kernelspec": {
   "display_name": "Python 3 (ipykernel)",
   "language": "python",
   "name": "python3"
  },
  "language_info": {
   "codemirror_mode": {
    "name": "ipython",
    "version": 3
   },
   "file_extension": ".py",
   "mimetype": "text/x-python",
   "name": "python",
   "nbconvert_exporter": "python",
   "pygments_lexer": "ipython3",
   "version": "3.12.4"
  }
 },
 "nbformat": 4,
 "nbformat_minor": 5
}
