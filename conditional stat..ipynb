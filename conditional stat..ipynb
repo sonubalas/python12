{
 "cells": [
  {
   "cell_type": "code",
   "execution_count": 11,
   "id": "3fff749c-c7fa-415f-9ff5-676277c89e45",
   "metadata": {},
   "outputs": [
    {
     "name": "stdin",
     "output_type": "stream",
     "text": [
      "enter a number 50\n"
     ]
    },
    {
     "name": "stdout",
     "output_type": "stream",
     "text": [
      "even number\n"
     ]
    }
   ],
   "source": [
    "# questions for conditional statement  -->>\n",
    "\n",
    "\n",
    "# Q1 Write a program that takes an integer input from the user and checks whether the number is odd or even .\n",
    "\n",
    "num=int(input(\"enter a number\"))\n",
    "if(num%2==0):\n",
    "    print(\"even number\")\n",
    "else:\n",
    "    print(\"odd number\")"
   ]
  },
  {
   "cell_type": "code",
   "execution_count": 23,
   "id": "98b19593-d7b8-4836-81c2-07c28b610a76",
   "metadata": {},
   "outputs": [
    {
     "name": "stdin",
     "output_type": "stream",
     "text": [
      "enter a number 40\n",
      "enter a number 30\n",
      "enter a number 89\n"
     ]
    },
    {
     "name": "stdout",
     "output_type": "stream",
     "text": [
      "num3 is largest\n"
     ]
    }
   ],
   "source": [
    "# Q2 Write a program that takes three numbers as input and prints the largest of the three.\n",
    "\n",
    "num1=int(input(\"enter a number\"))\n",
    "num2=int(input(\"enter a number\"))\n",
    "num3=int(input(\"enter a number\"))\n",
    "if(num1>num2 and num1>num3):\n",
    "    print(\" num1 is largest\")\n",
    "    \n",
    "elif(num2>num1 and num2 >num3):\n",
    "    print(\"num2 is largest\")\n",
    "    \n",
    "elif(num3>num1 and num3>num2):\n",
    "    print(\"num3 is largest\")\n",
    "    \n",
    "else:\n",
    "    print(\"small\")"
   ]
  },
  {
   "cell_type": "code",
   "execution_count": 51,
   "id": "66195392-3b98-4044-a71a-cfa2467d39b4",
   "metadata": {},
   "outputs": [
    {
     "name": "stdin",
     "output_type": "stream",
     "text": [
      "enter the year 2024\n"
     ]
    },
    {
     "name": "stdout",
     "output_type": "stream",
     "text": [
      "this is leap year\n"
     ]
    }
   ],
   "source": [
    "# Q3 Write a program to check if a given year is a leap year. A leap year is divisible by 4 but not by 100\n",
    "# unless it is also divisible by 400.\n",
    "\n",
    "year=int(input(\"enter the year\"))\n",
    "if(year%4==0 and (year%100!=0 or  year%400==0)):\n",
    "    print(\"this is leap year\")\n",
    "else:\n",
    "    print(\"not a leap year\")"
   ]
  },
  {
   "cell_type": "code",
   "execution_count": 75,
   "id": "67511151-944c-4098-8cb2-268c8bf280f8",
   "metadata": {},
   "outputs": [
    {
     "name": "stdin",
     "output_type": "stream",
     "text": [
      "enter the persentage 32\n"
     ]
    },
    {
     "name": "stdout",
     "output_type": "stream",
     "text": [
      "fail\n"
     ]
    }
   ],
   "source": [
    "\n",
    "\n",
    "# Q4 Write a program that takes a percentage (integer) as input and prints the corresponding grade based\n",
    "# on the following criteria:\n",
    "# >= 90: Grade A\n",
    "# >= 80: Grade B\n",
    "# >= 70: Grade C\n",
    "# >= 60: Grade D\n",
    "# < 60: Grade F\n",
    "\n",
    "per=int(input(\"enter the persentage\"))\n",
    "if( per <100 and per>=90):\n",
    "    print(\"grade A\")\n",
    "elif(per<90 and per >=80):\n",
    "    print(\"grade B\")\n",
    "elif(per <80 and per >=70):\n",
    "    print(\"grade C\")\n",
    "elif(per <70 and per >=60):\n",
    "    print(\"grade D\")\n",
    "elif(per < 60 and per >33):\n",
    "    print(\"grade E\")\n",
    "else:\n",
    "    print(\"fail\")\n",
    "    "
   ]
  },
  {
   "cell_type": "code",
   "execution_count": 114,
   "id": "911ee4ed-ed86-4884-820e-a9db796c7f9c",
   "metadata": {},
   "outputs": [
    {
     "name": "stdin",
     "output_type": "stream",
     "text": [
      "enter thr charecter g\n"
     ]
    },
    {
     "name": "stdout",
     "output_type": "stream",
     "text": [
      "consonent\n"
     ]
    }
   ],
   "source": [
    "# Q5 Write a program that checks if a given letter is a vowel (a, e, i, o, u) or a consonant.\n",
    "\n",
    "char=str(input(\"enter thr charecter\"))\n",
    "if  char in 'aeiou':\n",
    "    print(\"vovel \")\n",
    "else:\n",
    "    print(\"consonent\")\n"
   ]
  },
  {
   "cell_type": "code",
   "execution_count": 126,
   "id": "e3941a9a-e72a-4280-890d-0d7c66dddc1a",
   "metadata": {},
   "outputs": [
    {
     "name": "stdout",
     "output_type": "stream",
     "text": [
      "vovel\n"
     ]
    }
   ],
   "source": [
    "c='a'\n",
    "if c in 'aeiou':\n",
    "    print(\"vovel\")\n",
    "else:\n",
    "    print(\"consonant\")"
   ]
  },
  {
   "cell_type": "code",
   "execution_count": 134,
   "id": "bc39f6e8-ec63-4161-bb99-e1bda2d1df48",
   "metadata": {},
   "outputs": [
    {
     "name": "stdin",
     "output_type": "stream",
     "text": [
      "enter a number 23\n"
     ]
    },
    {
     "name": "stdout",
     "output_type": "stream",
     "text": [
      "positive\n"
     ]
    }
   ],
   "source": [
    "# Q7 Write a program that takes a number as input and checks whether it is positive, negative, or zero.\n",
    "\n",
    "num=int(input(\"enter a number\"))\n",
    "if(num>0):\n",
    "    print(\"positive\")\n",
    "elif(num<0):\n",
    "    print(\"negative\")\n",
    "else:\n",
    "    print(\"xero\")"
   ]
  },
  {
   "cell_type": "code",
   "execution_count": 162,
   "id": "97078484-e996-4cee-a3ad-7ea503b45e66",
   "metadata": {},
   "outputs": [
    {
     "name": "stdin",
     "output_type": "stream",
     "text": [
      "enter the name admin\n",
      "enter the password 1234\n"
     ]
    },
    {
     "name": "stdout",
     "output_type": "stream",
     "text": [
      "login successful\n"
     ]
    }
   ],
   "source": [
    "# # Q8 Write a program that checks if a username and password entered by the user match the pre-set values\n",
    "# username = \"admin\" and password = \"1234\". If both match, print \"Login Successful\", otherwise print\n",
    "# \"Login Failed\"./\n",
    "\n",
    "\n",
    "\n",
    "username=str(input(\"enter the name\"))\n",
    "password=int(input(\"enter the password\"))\n",
    "if(username==\"admin\" and password==1234):\n",
    "    print(\"login successful\")\n",
    "else:\n",
    "    print(\"login fail\")\n",
    "\n",
    "\n"
   ]
  },
  {
   "cell_type": "code",
   "execution_count": 184,
   "id": "49ace3ad-2953-4b22-9be0-3cb61aea1dfa",
   "metadata": {},
   "outputs": [
    {
     "name": "stdin",
     "output_type": "stream",
     "text": [
      "enter the age 0\n"
     ]
    },
    {
     "name": "stdout",
     "output_type": "stream",
     "text": [
      "Infant\n"
     ]
    }
   ],
   "source": [
    "# Q14 Write a program that categorizes a given age into different groups:\n",
    "# Infant (0-1 year)\n",
    "# Toddler (2-4 years)\n",
    "# Child (5-12 years)\n",
    "# Teenager (13-19 years)\n",
    "# Adult (20-59 years)\n",
    "# Senior (60 years and above)\n",
    "\n",
    "age=int(input(\"enter the age\"))\n",
    "if(age>=0 and age<=1):\n",
    "    print(\"Infant\")\n",
    "elif(age>=2 and age<=4):\n",
    "    print(\"Toddler\")\n",
    "elif(age>=5 and age<=12):\n",
    "    print(\"child\")\n",
    "elif(age>=13 and age<=19):\n",
    "    print(\"teenager\")\n",
    "elif(age>=20 and age <=59):\n",
    "    print(\"Adult\")\n",
    "elif(age>=60):\n",
    "    print(\"senior\")\n",
    "else:\n",
    "    print(\"enter a valid age\")"
   ]
  },
  {
   "cell_type": "code",
   "execution_count": 202,
   "id": "31972bda-74f4-4cd0-a734-7c9c400d5efa",
   "metadata": {},
   "outputs": [
    {
     "name": "stdin",
     "output_type": "stream",
     "text": [
      "enter the number of days 5\n"
     ]
    },
    {
     "name": "stdout",
     "output_type": "stream",
     "text": [
      "friday\n"
     ]
    }
   ],
   "source": [
    "# Q15 Write a program that takes an integer (1-7) as input and prints the corresponding day of the week (1\n",
    "# for Monday, 2 for Tuesday, etc.).\n",
    "\n",
    "\n",
    "day_num=int(input(\"enter the number of days\"))\n",
    "# days=(\"monday\",\"tuesday\",\"wednessday\", \"thrusday\" , \"friday\" , \"suterday\" ,\"sunday\")\n",
    "if(day_num==1):\n",
    "    print(\"monday\")\n",
    "elif(day_num==2):\n",
    "    print(\"tuesday\")\n",
    "elif(day_num==3):\n",
    "    print(\"wednessday\")\n",
    "elif(day_num==4):\n",
    "    print(\"thrusday\")\n",
    "elif(day_num==5):\n",
    "    print(\"friday\")\n",
    "elif(day_num==6):\n",
    "    print(\"suterday\")\n",
    "elif(day_num==7):\n",
    "    print(\"sunday\")\n",
    "else:\n",
    "    print(\"print a valid numner\")\n",
    "    \n"
   ]
  },
  {
   "cell_type": "code",
   "execution_count": 204,
   "id": "02564cbd-46ed-43d6-8acb-5a45c09b7559",
   "metadata": {},
   "outputs": [
    {
     "name": "stdin",
     "output_type": "stream",
     "text": [
      "enter a month 2\n"
     ]
    }
   ],
   "source": [
    "# \n",
    "# Q12 Write a program that takes the name of a month as input and prints the number of days in that\n",
    "# month. Consider leap years for February.\n",
    "\n",
    "month=str(input(\"enter a month\"))\n"
   ]
  },
  {
   "cell_type": "code",
   "execution_count": 230,
   "id": "0b1811cf-0737-4b56-8bcf-2888292cbe63",
   "metadata": {},
   "outputs": [
    {
     "name": "stdin",
     "output_type": "stream",
     "text": [
      "enter the side1 43\n",
      "enter the side2 65\n",
      "enter the side3 2\n"
     ]
    },
    {
     "name": "stdout",
     "output_type": "stream",
     "text": [
      "invalid  tringle\n"
     ]
    }
   ],
   "source": [
    "# Q9 Write a program that takes three sides of a triangle as input and checks if those sides form a valid\n",
    "# triangle. A triangle is valid if the sum of any two sides is greater than the third side.\n",
    "# Check conditions like a + b > c, b + c > a, and a + c > b.\n",
    "\n",
    "side1=int(input(\"enter the side1\"))\n",
    "\n",
    "side2=int(input(\"enter the side2\"))\n",
    "\n",
    "side3=int(input(\"enter the side3\"))\n",
    "\n",
    "if(side1+side2 > side3 and side1 + side3 > side2  and side2 + side3 > side1 ):\n",
    "    print(\"tringle is valid\")\n",
    "    \n",
    "else:\n",
    "    print(\"invalid  tringle\")\n",
    "    \n"
   ]
  },
  {
   "cell_type": "code",
   "execution_count": 232,
   "id": "c815415f-9ce3-4c81-a9ba-63acc93c993a",
   "metadata": {},
   "outputs": [],
   "source": [
    "# Q11 Write a program that calculates the discount for a product based on its price:\n",
    "# If price is greater than 1000, discount is 10%\n",
    "# If price is between 500 and 1000, discount is 5%\n",
    "# Otherwise, no discount\n",
    "# Print the final price after applying the discount.\n",
    "\n",
    "# price=float=int(input(\"enter the number\"))\n",
    "# if(price>=1000):\n",
    "#     discount="
   ]
  }
 ],
 "metadata": {
  "kernelspec": {
   "display_name": "Python 3 (ipykernel)",
   "language": "python",
   "name": "python3"
  },
  "language_info": {
   "codemirror_mode": {
    "name": "ipython",
    "version": 3
   },
   "file_extension": ".py",
   "mimetype": "text/x-python",
   "name": "python",
   "nbconvert_exporter": "python",
   "pygments_lexer": "ipython3",
   "version": "3.12.4"
  }
 },
 "nbformat": 4,
 "nbformat_minor": 5
}
