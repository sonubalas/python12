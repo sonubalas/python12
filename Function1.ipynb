{
 "cells": [
  {
   "cell_type": "markdown",
   "id": "530e3f64-8122-478d-8db9-dca5e2741b05",
   "metadata": {},
   "source": [
    "# Function"
   ]
  },
  {
   "cell_type": "code",
   "execution_count": null,
   "id": "93e518ef-a3fc-49d8-85ed-9725ff98f677",
   "metadata": {},
   "outputs": [],
   "source": [
    "# Function\n",
    "def msg(username):\n",
    "    print(\"hello \" ,username)\n",
    "\n",
    "msg(\"sonu\")\n",
    "msg(\"hello world\")"
   ]
  },
  {
   "cell_type": "code",
   "execution_count": 67,
   "id": "43031514-a43a-4e66-b07d-9ac0f58fb3fa",
   "metadata": {},
   "outputs": [
    {
     "name": "stdout",
     "output_type": "stream",
     "text": [
      "50\n"
     ]
    }
   ],
   "source": [
    "def sumNo(z,y):\n",
    "    print(z+y)\n",
    "sumNo(30,20)"
   ]
  },
  {
   "cell_type": "code",
   "execution_count": null,
   "id": "3cf5f7ed-bf8e-47bf-8d2b-0b639f6b8a8d",
   "metadata": {},
   "outputs": [],
   "source": [
    "x=19\n",
    "\n",
    "def func(age):\n",
    "    print(age,id(age))\n",
    "func(x)"
   ]
  },
  {
   "cell_type": "code",
   "execution_count": null,
   "id": "dfc0e285-193d-4523-86a5-7615f7074de0",
   "metadata": {},
   "outputs": [],
   "source": [
    "def func1(salary):\n",
    "    print(salary,id(salary))\n",
    "func1(2000)"
   ]
  },
  {
   "cell_type": "code",
   "execution_count": null,
   "id": "9d16fa04-d51c-4578-9c50-eb3a0a2a219e",
   "metadata": {},
   "outputs": [],
   "source": [
    "def func(mylist):\n",
    "    mylist.append('sonu')\n",
    "    print(mylist)\n",
    "    \n",
    "newlist = [10, 20]\n",
    "print(\"newlist is\", newlist, id(newlist))  # Fixed: Using id(newlist) instead of id(mylist)\n",
    "func(newlist)\n",
    "\n",
    "\n",
    "print(\"after function newlist\",newlist,id(newlist))"
   ]
  },
  {
   "cell_type": "code",
   "execution_count": null,
   "id": "b7674dee-0260-4d93-a4f1-3915c0d1d51e",
   "metadata": {},
   "outputs": [],
   "source": [
    "# function\n",
    "\n",
    "# we need to create a function which will print true or false\n",
    "# when a number is even\n",
    "# number input should be given by user\n",
    "\n",
    "\n",
    "num=int(input('enter the number'))\n",
    "if(num%2==0):\n",
    "    print('True')\n",
    "else:\n",
    "    print('False')\n",
    "    print(num,type(num))"
   ]
  },
  {
   "cell_type": "code",
   "execution_count": null,
   "id": "93f26dd4-671c-4911-82fb-0231a2e41cf8",
   "metadata": {},
   "outputs": [],
   "source": [
    "def func(x):\n",
    "    if(x%2==0):\n",
    "        print(True)\n",
    "    else:\n",
    "        print(False)\n",
    "num=int(input('enter the number'))\n",
    "func(num)"
   ]
  },
  {
   "cell_type": "code",
   "execution_count": null,
   "id": "11d4f3bf-434a-40c1-9a91-56f0e78b5520",
   "metadata": {},
   "outputs": [],
   "source": [
    "def func(x):\n",
    "    print(x+10)\n",
    "func(10)"
   ]
  },
  {
   "cell_type": "code",
   "execution_count": null,
   "id": "b235602c-73f4-4d88-a068-0e5292b958a0",
   "metadata": {},
   "outputs": [],
   "source": [
    "def func(x):\n",
    "    return True\n",
    "\n",
    "# outiside functio\n",
    "out=func(10)\n",
    "print('out value is',out)\n",
    "  "
   ]
  },
  {
   "cell_type": "code",
   "execution_count": 75,
   "id": "1c4796ab-fd4e-4534-abb8-0210d6a66c6f",
   "metadata": {},
   "outputs": [
    {
     "name": "stdout",
     "output_type": "stream",
     "text": [
      "x+y is 30\n"
     ]
    }
   ],
   "source": [
    " # write down a function a print their lcm\n",
    "def func(x,y):\n",
    "    print(\"x+y is\",x+y)\n",
    "func(10,20)"
   ]
  },
  {
   "cell_type": "code",
   "execution_count": 85,
   "id": "1788a6b2-870f-4f7a-8ba0-338fc8b2dee2",
   "metadata": {},
   "outputs": [
    {
     "name": "stdout",
     "output_type": "stream",
     "text": [
      "lcm 10\n"
     ]
    }
   ],
   "source": [
    "def func(x,y):\n",
    "    if(x>y):\n",
    "        greatest=x\n",
    "    else:\n",
    "        greatest=y\n",
    "    while(True):\n",
    "        if(greatest%x==0 and  greatest%y==0):\n",
    "            print(\"lcm\" , greatest)\n",
    "            break\n",
    "        else:\n",
    "            greatest+=1\n",
    "\n",
    "\n",
    "\n",
    "func(2,5)    \n",
    "        \n",
    "        \n",
    "        "
   ]
  },
  {
   "cell_type": "code",
   "execution_count": null,
   "id": "56ec9f08-6d10-4333-930a-606471db2b5f",
   "metadata": {},
   "outputs": [],
   "source": []
  },
  {
   "cell_type": "code",
   "execution_count": 32,
   "id": "6238c281-5a16-4029-a4f3-4df20b5700c2",
   "metadata": {},
   "outputs": [],
   "source": [
    "def employee(eid, ename, eemail):\n",
    "    print(\"empoyee information has \",\"\\neid-\",eid,\"\\nename-\",ename,\"\\neemail-\",eemail)"
   ]
  },
  {
   "cell_type": "code",
   "execution_count": 36,
   "id": "cc341708-ec17-49e5-be66-82984afd8f2b",
   "metadata": {},
   "outputs": [
    {
     "name": "stdout",
     "output_type": "stream",
     "text": [
      "empoyee information has  \n",
      "eid- 10 \n",
      "ename- sonu \n",
      "eemail- kumar2123gmail.com\n"
     ]
    }
   ],
   "source": [
    "employee(10,\"sonu\" ,\"kumar2123gmail.com\")"
   ]
  },
  {
   "cell_type": "code",
   "execution_count": 40,
   "id": "078564fd-9538-4429-b4a0-72d2927ca306",
   "metadata": {},
   "outputs": [
    {
     "name": "stdout",
     "output_type": "stream",
     "text": [
      "empoyee information has  \n",
      "eid- 10 \n",
      "ename- sonu \n",
      "eemail- kumar2123gmail.com\n"
     ]
    }
   ],
   "source": [
    "# positional argument\n",
    "\n",
    "def employee(eid, ename, eemail):\n",
    "    print(\"empoyee information has \",\"\\neid-\",eid,\"\\nename-\",ename,\"\\neemail-\",eemail)\n",
    "employee(10,\"sonu\" ,\"kumar2123gmail.com\")"
   ]
  },
  {
   "cell_type": "code",
   "execution_count": null,
   "id": "de788923-8e29-4e41-880a-1f8db36d0cab",
   "metadata": {},
   "outputs": [],
   "source": []
  },
  {
   "cell_type": "code",
   "execution_count": 51,
   "id": "a11bd03e-a4bf-42bd-9c2c-cfed6d89e0f3",
   "metadata": {},
   "outputs": [
    {
     "name": "stdout",
     "output_type": "stream",
     "text": [
      "empoyee information has  \n",
      "eid: 10 \n",
      "ename: sonu \n",
      "eemail: kumar2123gmail.com\n"
     ]
    }
   ],
   "source": [
    "# keyword argument\n",
    "\n",
    "def employee(eid, ename, eemail):\n",
    "    print(\"empoyee information has \",\"\\neid:\",eid,\"\\nename:\",ename,\"\\neemail:\",eemail)\n",
    "employee( ename=\"sonu\",eid=10 ,eemail=\"kumar2123gmail.com\")"
   ]
  },
  {
   "cell_type": "code",
   "execution_count": null,
   "id": "47a4f369-38d2-400e-b7ee-f4553c35758f",
   "metadata": {},
   "outputs": [],
   "source": []
  },
  {
   "cell_type": "code",
   "execution_count": 64,
   "id": "755a485c-4bb8-4feb-901e-dba788c1c4f1",
   "metadata": {},
   "outputs": [
    {
     "name": "stdout",
     "output_type": "stream",
     "text": [
      "empoyee information has  \n",
      "eid: 10 \n",
      "ename: sonu \n",
      "eemail: sonu@gmail.com\n"
     ]
    }
   ],
   "source": [
    "# default argument  ->> declairation me assign hota h\n",
    "# isme uper  bhi value d skte h\n",
    "# age uper or neeche dono jagah dete h to neeche ki value lega\n",
    "\n",
    "\n",
    "def employee(eid, ename, eemail=\"sonu@gmail.com\"):\n",
    "    print(\"empoyee information has \",\"\\neid:\",eid,\"\\nename:\",ename,\"\\neemail:\",eemail)\n",
    "employee( ename=\"sonu\",eid=10)\n",
    "\n"
   ]
  },
  {
   "cell_type": "code",
   "execution_count": null,
   "id": "1ee87925-0c3e-449e-963d-80118d0dd61f",
   "metadata": {},
   "outputs": [],
   "source": []
  },
  {
   "cell_type": "code",
   "execution_count": 82,
   "id": "393613bc-595f-46f4-b5ec-dd1e6674311c",
   "metadata": {},
   "outputs": [
    {
     "name": "stdout",
     "output_type": "stream",
     "text": [
      "(10, 20, 30) 10\n",
      "(15, 25, 35, 'hello') 15\n",
      "(0,) 0\n"
     ]
    }
   ],
   "source": [
    "# variable length argument\n",
    "\n",
    "def employee(*detail):\n",
    "    print(detail,detail[0])\n",
    "          \n",
    "employee(10,20,30)\n",
    "employee(15,25,35,\"hello\")\n",
    "\n",
    "employee(0)"
   ]
  },
  {
   "cell_type": "code",
   "execution_count": 80,
   "id": "7e43837a-428b-44ee-8174-de8ee93a3ab6",
   "metadata": {},
   "outputs": [
    {
     "name": "stdout",
     "output_type": "stream",
     "text": [
      "{'age': 10, 'salary': 20}\n",
      "{'salary': 50, 'age': 20, 'msg': 'hello'}\n"
     ]
    }
   ],
   "source": [
    "def employee(**detail):\n",
    "    print(detail)\n",
    "    \n",
    "employee(age=10,salary=20)\n",
    "employee(salary=50,age=20,msg='hello')\n"
   ]
  },
  {
   "cell_type": "markdown",
   "id": "7f422f0e-94cc-4932-b10d-d89992cc7fcc",
   "metadata": {},
   "source": [
    " qQuestion -->>> Args and Kwards"
   ]
  },
  {
   "cell_type": "code",
   "execution_count": 99,
   "id": "b2d51d70-df75-4c2e-9f65-2249d69ab076",
   "metadata": {},
   "outputs": [
    {
     "name": "stdout",
     "output_type": "stream",
     "text": [
      "[1, 19]\n"
     ]
    }
   ],
   "source": [
    "# create a python function which takes a number as an int and return the list\n",
    "\n",
    "# list contain all the fctors of a number includingn 1 by dfefault \n",
    "# 10\n",
    "# [1,2,5,10]\n",
    "\n",
    "# 7\n",
    "# [1,7]\n",
    "\n",
    "    \n",
    "def number(x):\n",
    "    mylist=[1]\n",
    "    for i in range(2,x+1):\n",
    "        if(x%i==0):\n",
    "            mylist.append(i)\n",
    "\n",
    "    return mylist\n",
    "out=number(19)\n",
    "print(out)\n",
    "    \n",
    "#     print(x)\n",
    "# for i in range(1,10):\n",
    "#     if(num%number==0):\n",
    "#         print(num)\n",
    "#     else:\n",
    "#         print(false)\n",
    "# number(5)"
   ]
  },
  {
   "cell_type": "markdown",
   "id": "6def91f0-a2dd-466b-8382-66c611379fcc",
   "metadata": {},
   "source": [
    "# Lambda function\n"
   ]
  },
  {
   "cell_type": "code",
   "execution_count": 102,
   "id": "30e2890e-a718-4b08-8be8-0dc88b1454b4",
   "metadata": {},
   "outputs": [],
   "source": [
    "# Lambda function\n",
    "\n",
    "# a function that is define without a name and print a single line\n",
    "# it is called annonimous function\n",
    "# it is called in-line  or one-line function\n",
    "# code readable\n",
    "\n"
   ]
  },
  {
   "cell_type": "code",
   "execution_count": 112,
   "id": "14c001ef-8448-4dce-ae9b-f15e3119302b",
   "metadata": {},
   "outputs": [
    {
     "data": {
      "text/plain": [
       "16"
      ]
     },
     "execution_count": 112,
     "metadata": {},
     "output_type": "execute_result"
    }
   ],
   "source": [
    "def square(x):\n",
    "    return x**2\n",
    "\n",
    "square(4)"
   ]
  },
  {
   "cell_type": "code",
   "execution_count": 120,
   "id": "43b709f7-a864-4890-bfcc-348b3fc88e20",
   "metadata": {},
   "outputs": [
    {
     "name": "stdout",
     "output_type": "stream",
     "text": [
      "625\n",
      "None\n"
     ]
    }
   ],
   "source": [
    "# Lambda parameter , para : expression\n",
    "\n",
    "out=lambda x:print( x**2)\n",
    "\n",
    "print(out(25))"
   ]
  },
  {
   "cell_type": "code",
   "execution_count": 122,
   "id": "9b1f84d6-5387-455d-9c4b-c3531791d92f",
   "metadata": {},
   "outputs": [],
   "source": [
    "# map , filter ,reduce\n",
    "\n",
    "# high order function\n",
    "\n",
    "# map\n",
    "\n",
    "# [10,20,30,40] "
   ]
  },
  {
   "cell_type": "code",
   "execution_count": 142,
   "id": "31261b47-955e-4780-9209-46a7cf6e8395",
   "metadata": {},
   "outputs": [
    {
     "data": {
      "text/plain": [
       "[30, 40, 50, 75, 80]"
      ]
     },
     "execution_count": 142,
     "metadata": {},
     "output_type": "execute_result"
    }
   ],
   "source": [
    "def sumno(num):\n",
    "    return num+20\n",
    "\n",
    "mylist=[10,20,30,55,60]\n",
    "\n",
    "list (map (sumno,mylist))"
   ]
  },
  {
   "cell_type": "code",
   "execution_count": 152,
   "id": "8b15401f-8573-43b3-8791-727cace9d1bd",
   "metadata": {},
   "outputs": [
    {
     "data": {
      "text/plain": [
       "[60, 70, 80, 105, 110]"
      ]
     },
     "execution_count": 152,
     "metadata": {},
     "output_type": "execute_result"
    }
   ],
   "source": [
    "mylist=[10,20,30,55,60]\n",
    "list (map(lambda num: num+50 , mylist))"
   ]
  },
  {
   "cell_type": "code",
   "execution_count": null,
   "id": "e8c56aa6-a212-42b6-b053-c0067b17a377",
   "metadata": {},
   "outputs": [],
   "source": []
  }
 ],
 "metadata": {
  "kernelspec": {
   "display_name": "Python 3 (ipykernel)",
   "language": "python",
   "name": "python3"
  },
  "language_info": {
   "codemirror_mode": {
    "name": "ipython",
    "version": 3
   },
   "file_extension": ".py",
   "mimetype": "text/x-python",
   "name": "python",
   "nbconvert_exporter": "python",
   "pygments_lexer": "ipython3",
   "version": "3.12.4"
  }
 },
 "nbformat": 4,
 "nbformat_minor": 5
}
